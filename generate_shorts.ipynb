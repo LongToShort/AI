{
  "cells": [
    {
      "cell_type": "code",
      "execution_count": null,
      "metadata": {
        "colab": {
          "base_uri": "https://localhost:8080/"
        },
        "id": "ApcDULBzoa6r",
        "outputId": "443854ca-04b1-4652-d0cb-8e23b53222de"
      },
      "outputs": [],
      "source": [
        "!pip install yt_dlp TTS"
      ]
    },
    {
      "cell_type": "code",
      "execution_count": null,
      "metadata": {
        "colab": {
          "base_uri": "https://localhost:8080/"
        },
        "id": "5qx-6X6wrGhT",
        "outputId": "90a69f7f-10b9-402a-a8c3-36453aee4a3f"
      },
      "outputs": [],
      "source": [
        "!pip3 install python-dotenv"
      ]
    },
    {
      "cell_type": "code",
      "execution_count": null,
      "metadata": {
        "colab": {
          "base_uri": "https://localhost:8080/"
        },
        "id": "iJk4JxkhyZmC",
        "outputId": "9eefc26a-ea01-4281-8f70-9d09bc8a4a35"
      },
      "outputs": [],
      "source": [
        "!pip install openai==0.28.1"
      ]
    },
    {
      "cell_type": "code",
      "execution_count": null,
      "metadata": {
        "colab": {
          "base_uri": "https://localhost:8080/"
        },
        "id": "bP9iTRmbHnEw",
        "outputId": "6e6f5466-a5ae-42e3-ed0e-e60200d2e05b"
      },
      "outputs": [],
      "source": [
        "!pip install ffmpeg-python"
      ]
    },
    {
      "cell_type": "markdown",
      "metadata": {
        "id": "LXhc1lVwHx40"
      },
      "source": [
        "## 영상, 음성 다운로드"
      ]
    },
    {
      "cell_type": "code",
      "execution_count": null,
      "metadata": {
        "id": "y72co9QppOyv"
      },
      "outputs": [],
      "source": [
        "import yt_dlp\n",
        "\n",
        "def url_to_mp3(url, output_path):\n",
        "    # 다운로드 옵션 설정\n",
        "    ydl_opts = {\n",
        "        \"format\": \"bestaudio/best\",  # 최적의 오디오 품질로 다운로드\n",
        "        \"outtmpl\": output_path,  # 출력 경로 및 파일명 설정\n",
        "        \"postprocessors\": [{  # 후처리 옵션 설정 (오디오 포맷 변경)\n",
        "            \"key\": \"FFmpegExtractAudio\",  # 오디오 추출을 위한 후처리\n",
        "            \"preferredcodec\": \"mp3\",  # MP3 포맷으로 변환\n",
        "            \"preferredquality\": \"192\"  # MP3 품질 192kbps로 설정\n",
        "        }]\n",
        "    }\n",
        "\n",
        "    # yt-dlp로 다운로드 실행\n",
        "    with yt_dlp.YoutubeDL(ydl_opts) as ydl:\n",
        "        ydl.download([url])\n",
        "\n",
        "def url_to_mp4(url, output_path):\n",
        "    \"\"\"비디오+오디오 다운로드 (MP4 포맷)\"\"\"\n",
        "    ydl_opts = {\n",
        "        'format': 'bestvideo[ext=mp4]+bestaudio[ext=m4a]/best[ext=mp4]/best',\n",
        "        'outtmpl': output_path,\n",
        "        'merge_output_format': 'mp4'  # ✅ 포맷 강제 지정\n",
        "    }\n",
        "\n",
        "    with yt_dlp.YoutubeDL(ydl_opts) as ydl:\n",
        "        ydl.download([url])\n",
        "    print(f\"🎥 비디오 저장 완료: {output_path.replace('%(ext)s', 'mp4')}\")\n",
        "\n"
      ]
    },
    {
      "cell_type": "markdown",
      "metadata": {
        "id": "PxocZWXiIIU5"
      },
      "source": [
        "## 음성 → 텍스트 변환\n",
        "\n",
        "\n",
        "#### 출력 파일 생성\n",
        "- whisper_response.json: 원본 API 응답 데이터 (모든 메타데이터 포함)\n",
        "\n",
        "- full_transcription.txt: 전체 변환 텍스트 (연속된 문자열)\n",
        "\n",
        "- segments_timestamps.txt: 문장별 시작/종료 시간 기록"
      ]
    },
    {
      "cell_type": "code",
      "execution_count": null,
      "metadata": {
        "id": "5xBE4fa-pjlG"
      },
      "outputs": [],
      "source": [
        "import openai\n",
        "import json\n",
        "\n",
        "def mp3_to_text(file_path, api_key):\n",
        "    openai.api_key = api_key\n",
        "\n",
        "    with open(file_path, \"rb\") as audio_file:\n",
        "        response = openai.Audio.transcribe(\n",
        "            file=audio_file,\n",
        "            model=\"whisper-1\",\n",
        "            language=\"ko\",  # 한국어 음성 처리\n",
        "            response_format=\"verbose_json\",\n",
        "            timestamp_granularities=[\"segment\"]\n",
        "        )\n",
        "\n",
        "    # JSON 응답 저장\n",
        "    with open(\"whisper_response.json\", \"w\", encoding=\"UTF-8\") as file:\n",
        "        json.dump(response, file, ensure_ascii=False, indent=2)\n",
        "\n",
        "    # 전체 텍스트 저장\n",
        "    with open(\"full_transcription.txt\", \"w\", encoding=\"UTF-8\") as file:\n",
        "        file.write(response['text'])\n",
        "\n",
        "    # 세그먼트 및 타임스탬프 저장\n",
        "    with open(\"segments_timestamps.txt\", \"w\", encoding=\"UTF-8\") as file:\n",
        "        for segment in response['segments']:\n",
        "            line = f\"{segment['text']} - 시작: {segment['start']:.2f}, 종료: {segment['end']:.2f}\\n\"\n",
        "            file.write(line)"
      ]
    },
    {
      "cell_type": "markdown",
      "metadata": {
        "id": "6_eO1kXiIfST"
      },
      "source": [
        "##  영상 스크립트에서 쇼츠 포인트를 찾아 저장"
      ]
    },
    {
      "cell_type": "code",
      "execution_count": null,
      "metadata": {
        "id": "Y9-IYAd1IhbS"
      },
      "outputs": [],
      "source": [
        "from dotenv import load_dotenv\n",
        "import os\n",
        "\n",
        "load_dotenv()\n",
        "\n",
        "api_key=os.getenv(\"OPEN_AI_KEY\")"
      ]
    },
    {
      "cell_type": "code",
      "execution_count": null,
      "metadata": {
        "id": "BMJqs66rrnHz"
      },
      "outputs": [],
      "source": [
        "import openai\n",
        "\n",
        "def text_to_shorts_points(full_text_path, api_key):\n",
        "    openai.api_key = api_key  # <- 최신 SDK에서는 이렇게 설정\n",
        "\n",
        "    # ✅ 텍스트 파일 열어서 내용 읽기\n",
        "    with open(full_text_path, \"r\", encoding=\"UTF-8\") as file:\n",
        "        full_text = file.read()\n",
        "\n",
        "    # 2. 텍스트를 기반으로 ChatGPT에게 쇼츠 포인트 요청\n",
        "    chat_response = openai.ChatCompletion.create(\n",
        "        model=\"gpt-3.5-turbo\",\n",
        "        messages=[\n",
        "            {\"role\": \"system\", \"content\": \"너는 최고의 유튜브 편집자이자 교육 전문가야.\"},\n",
        "            {\"role\": \"user\", \"content\": f\"\"\"\n",
        "            [규칙]\n",
        "            - 주어지는 스크립트에서 공부 중 꼭 알아야 할 핵심 개념, 설명, 예시, 꿀팁 등을 포함한\n",
        "              '자연스러운 문단 또는 연속된 문장 덩어리' 단위로 묶어서 쇼츠화에 적합한 포인트를 선별해줘.\n",
        "            - 학습에 도움이 되게 10문장 이상의 연속된 문장들로 구성된 자연스러운 덩어리여야 해.\n",
        "            - 각 쇼츠 포인트는 해당 부분을 그대로 복사해서 출력해줘.\n",
        "            - 문장 순서나 내용을 바꾸지 말고, 반드시 원본 스크립트에서 '연속된 부분'만 추출해줘.\n",
        "            - 각 쇼츠 포인트 옆에는 '이 부분을 쇼츠화 포인트로 선택한 이유'를 1~2문장으로 설명해줘.\n",
        "\n",
        "            [출력 형식]\n",
        "            1. [쇼츠 포인트(여러 문장)] - [선택 이유]\n",
        "            2. [쇼츠 포인트(여러 문장)] - [선택 이유]\n",
        "\n",
        "            [스크립트]\n",
        "            {full_text}\n",
        "            \"\"\"}\n",
        "        ]\n",
        "    )\n",
        "\n",
        "    # 3. 결과 저장\n",
        "    shorts_points = chat_response[\"choices\"][0][\"message\"][\"content\"]\n",
        "\n",
        "    with open(\"shorts_points.txt\", \"w\", encoding=\"UTF-8\") as file:\n",
        "        file.write(shorts_points)\n",
        "\n",
        "    print(\"✅ 쇼츠 포인트 추출 완료!\")\n"
      ]
    },
    {
      "cell_type": "markdown",
      "metadata": {
        "id": "KSKll5p2IzkQ"
      },
      "source": [
        "## 1. 세그먼트 읽기 → 2. 쇼츠 포인트 읽기 → 3. 유사도 기반 매칭 → 4. 결과 저장"
      ]
    },
    {
      "cell_type": "code",
      "execution_count": null,
      "metadata": {
        "id": "Q63zNaeaUVCl"
      },
      "outputs": [],
      "source": [
        "from difflib import SequenceMatcher\n",
        "\n",
        "# --- 1. Whisper 세그먼트 불러오기 ---\n",
        "def read_segments(file_path):\n",
        "    with open(file_path, 'r', encoding='utf-8') as file:\n",
        "        return json.load(file)[\"segments\"]\n",
        "\n",
        "# --- 2. 쇼츠 포인트 파싱 (여러 줄, 번호, 선택 이유 등 처리) ---\n",
        "def read_shorts_points(file_path):\n",
        "    shorts_list = []\n",
        "    with open(file_path, 'r', encoding='utf-8') as file:\n",
        "        current_point = []\n",
        "        for line in file:\n",
        "            line = line.strip()\n",
        "            if re.match(r'^\\d+\\.', line):  # \"1.\", \"2.\" 등으로 시작\n",
        "                if current_point:\n",
        "                    full_text = ' '.join(current_point).split(' - ')[0].strip()\n",
        "                    shorts_list.append(full_text)\n",
        "                current_point = [re.sub(r'^\\d+\\.\\s*', '', line)]\n",
        "            elif line.startswith('- 이 부분을'):  # 선택 이유 라인 무시\n",
        "                continue\n",
        "            elif line:\n",
        "                current_point.append(line)\n",
        "        if current_point:\n",
        "            full_text = ' '.join(current_point).split(' - ')[0].strip()\n",
        "            shorts_list.append(full_text)\n",
        "    return shorts_list\n",
        "\n",
        "# --- 3. 세그먼트 윈도우 생성 (연속 n개 묶음) ---\n",
        "def build_windows(segments, window_size=5):\n",
        "    windows = []\n",
        "    for i in range(len(segments) - window_size + 1):\n",
        "        chunk = segments[i:i + window_size]\n",
        "        text = ' '.join(seg[\"text\"] for seg in chunk)\n",
        "        windows.append({\n",
        "            \"text\": text,\n",
        "            \"start\": chunk[0][\"start\"],\n",
        "            \"end\": chunk[-1][\"end\"]\n",
        "        })\n",
        "    return windows\n",
        "\n",
        "# --- 4. 유사도 계산 ---\n",
        "def similarity(a, b):\n",
        "    a = re.sub(r'\\s+', '', a)\n",
        "    b = re.sub(r'\\s+', '', b)\n",
        "    return SequenceMatcher(None, a, b).ratio()\n",
        "\n",
        "# --- 5. 쇼츠 포인트와 세그먼트 윈도우 매칭 ---\n",
        "def match_shorts_to_segments(shorts_points, segments, threshold=0.5, window_size=5):\n",
        "    windows = build_windows(segments, window_size)\n",
        "    results = []\n",
        "    for short in shorts_points:\n",
        "        best_match = None\n",
        "        best_score = 0\n",
        "        short_text = short.strip()\n",
        "        for window in windows:\n",
        "            score = similarity(short_text, window[\"text\"])\n",
        "            if score > best_score:\n",
        "                best_score = score\n",
        "                best_match = window\n",
        "        if best_score >= threshold:\n",
        "            results.append((short, best_match[\"start\"], best_match[\"end\"]))\n",
        "        else:\n",
        "            results.append((short, None, None))\n",
        "    return results\n",
        "\n",
        "# --- 6. 결과 파일로 저장 ---\n",
        "def write_output(file_path, matched):\n",
        "    with open(file_path, 'w', encoding='utf-8') as file:\n",
        "        for text, start, end in matched:\n",
        "            if start is not None:\n",
        "                file.write(f\"{text} - 시작: {start:.2f}, 종료: {end:.2f}\\n\")\n",
        "            else:\n",
        "                file.write(f\"{text} - ❌ 매칭 실패\\n\")"
      ]
    },
    {
      "cell_type": "markdown",
      "metadata": {
        "id": "FnS9Bmc8JU8I"
      },
      "source": [
        "## 영상 자르기"
      ]
    },
    {
      "cell_type": "code",
      "execution_count": null,
      "metadata": {
        "id": "xL2pm9Jw16o5"
      },
      "outputs": [],
      "source": [
        "# fps 추출\n",
        "import ffmpeg\n",
        "\n",
        "def get_video_fps(file_path):\n",
        "    probe = ffmpeg.probe(file_path, v='error', select_streams='v:0', show_entries='stream=r_frame_rate')\n",
        "    print(probe)\n",
        "    if not probe['streams']:\n",
        "      raise ValueError(\"비디오 스트림을 찾을 수 없습니다. 파일 형식을 확인하세요.\")\n",
        "\n",
        "    fps = probe['streams'][0]['r_frame_rate']\n",
        "    numerator, denominator = map(float, fps.split('/'))\n",
        "    return numerator / denominator"
      ]
    },
    {
      "cell_type": "markdown",
      "metadata": {
        "id": "s5u77A1BJgkY"
      },
      "source": [
        "## 쇼츠 부분 자르기"
      ]
    },
    {
      "cell_type": "code",
      "execution_count": null,
      "metadata": {
        "colab": {
          "base_uri": "https://localhost:8080/"
        },
        "id": "2t2qs0oVrrQp",
        "outputId": "a1d61b9a-418f-4792-f8c3-af1066688bc6"
      },
      "outputs": [],
      "source": [
        "from moviepy.editor import VideoFileClip\n",
        "import re\n",
        "\n",
        "\n",
        "def load_timestamps_from_file(text_file):\n",
        "    shorts_info = []\n",
        "    # 정규표현식 패턴 업데이트 (텍스트와 타임스탬프 분리)\n",
        "    pattern = r'^(.*?) - 시작: (\\d+\\.\\d+), 종료: (\\d+\\.\\d+)'\n",
        "\n",
        "    with open(text_file, 'r', encoding='utf-8') as file:\n",
        "        for line in file:\n",
        "            line = line.strip()\n",
        "            match = re.match(pattern, line)\n",
        "            if match:\n",
        "                text = match.group(1).strip()\n",
        "                start_time = float(match.group(2))\n",
        "                end_time = float(match.group(3))\n",
        "                shorts_info.append((text, start_time, end_time))\n",
        "    return shorts_info\n",
        "\n",
        "\n",
        "def cut_and_save_video(video_path, start_time, end_time, output_path, fps):\n",
        "    # 동영상 파일 로드\n",
        "    clip = VideoFileClip(video_path)\n",
        "    # 주어진 시작과 종료 시간에 따라 클립 자르기\n",
        "    short_clip = clip.subclip(start_time, end_time)\n",
        "    # 새로운 파일로 저장\n",
        "    short_clip.write_videofile(output_path, codec=\"libx264\", fps=fps)\n"
      ]
    },
    {
      "cell_type": "markdown",
      "metadata": {
        "id": "U5yk61PdJrGw"
      },
      "source": [
        "## 메인"
      ]
    },
    {
      "cell_type": "code",
      "execution_count": null,
      "metadata": {
        "colab": {
          "base_uri": "https://localhost:8080/"
        },
        "id": "EiYJMY7iru_3",
        "outputId": "5381a1f4-f6cd-49d2-dc6a-3ae86ddc0518"
      },
      "outputs": [],
      "source": [
        "def main():\n",
        "   # 1. 유튜브 mp3 다운로드\n",
        "    url = \"https://youtu.be/fre34cEeAYs?si=2JjkPcHBNmXsHurL\"\n",
        "    mp3_path = \"youtube_output\"\n",
        "    mp4_path = \"youtube_output\"\n",
        "    url_to_mp4(url, mp4_path)\n",
        "    url_to_mp3(url, mp3_path)\n",
        "\n",
        "    # 실제 mp3는 위에서 지정한 이름으로 저장됨\n",
        "    mp3_file_path = \"youtube_output.mp3\"\n",
        "\n",
        "    full_text_path=\"full_transcription.txt\"\n",
        "\n",
        "    # 2. Whisper로 텍스트 변환\n",
        "    mp3_to_text(mp3_file_path, api_key)\n",
        "\n",
        "    # 3. GPT로 쇼츠 포인트 추출\n",
        "    text_to_shorts_points(full_text_path, api_key)\n",
        "\n",
        "    # 4. 세그먼트 매칭\n",
        "    segments_file = 'whisper_response.json'\n",
        "    shorts_file = 'shorts_points.txt'\n",
        "    output_file = 'result_by_segment.txt'\n",
        "\n",
        "    segments = read_segments(segments_file)\n",
        "    shorts_points = read_shorts_points(shorts_file)\n",
        "    matched = match_shorts_to_segments(shorts_points, segments,  threshold=0.6, window_size=5)\n",
        "    write_output(output_file, matched)\n",
        "\n",
        "    print(\"🧩 세그먼트 매칭 및 저장 완료\")\n",
        "\n",
        "    # 5. 영상에서 쇼츠 자르기\n",
        "    video_file = 'youtube_output.mp4'  # ⚠️ 직접 편집한 영상 위치로 설정 필요\n",
        "    output_folder = 'output_clips\\\\'\n",
        "\n",
        "    shorts_info = load_timestamps_from_file(output_file)\n",
        "\n",
        "    fps = get_video_fps(video_file)\n",
        "\n",
        "    for idx, (text, start_time, end_time) in enumerate(shorts_info):\n",
        "        if start_time is not None and end_time is not None:\n",
        "            output_path = f\"{output_folder}short_clip_{idx + 1}.mp4\"\n",
        "            cut_and_save_video(video_file, start_time, end_time, output_path,fps)\n",
        "            print(f\"🎬 쇼츠 {idx + 1} 저장 완료: {output_path}\")\n",
        "        else:\n",
        "            print(f\"⚠️ 쇼츠 {idx + 1}는 매칭 실패로 저장되지 않았습니다.\")\n",
        "\n",
        "    print(\"✅ 전체 작업 완료!\")\n",
        "\n",
        "if __name__ == '__main__':\n",
        "    main()\n",
        "\n",
        "\n"
      ]
    }
  ],
  "metadata": {
    "colab": {
      "provenance": []
    },
    "kernelspec": {
      "display_name": "Python 3",
      "name": "python3"
    },
    "language_info": {
      "name": "python"
    }
  },
  "nbformat": 4,
  "nbformat_minor": 0
}
